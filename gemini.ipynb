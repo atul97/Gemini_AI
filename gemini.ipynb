{
 "cells": [
  {
   "attachments": {},
   "cell_type": "markdown",
   "metadata": {},
   "source": [
    "# `Gemini PRO` API: Quickstart "
   ]
  },
  {
   "attachments": {},
   "cell_type": "markdown",
   "metadata": {},
   "source": [
    "#### As gemini is a part of `google generative AI` so we need to install google generative AI module"
   ]
  },
  {
   "cell_type": "code",
   "execution_count": 1,
   "metadata": {},
   "outputs": [],
   "source": [
    "!pip install -q -U google-generativeai"
   ]
  },
  {
   "cell_type": "code",
   "execution_count": 26,
   "metadata": {},
   "outputs": [],
   "source": [
    "import pathlib\n",
    "import textwrap\n",
    "\n",
    "import google.generativeai as genai\n",
    "\n",
    "# Used to securely store your API key\n",
    "# from google.colab import userdata\n",
    "\n",
    "from IPython.display import display\n",
    "from IPython.display import Markdown\n",
    "\n",
    "\n",
    "def to_markdown(text):\n",
    "  text = text.replace('•', '  *')\n",
    "  return Markdown(textwrap.indent(text, '> ', predicate=lambda _: True))"
   ]
  },
  {
   "attachments": {},
   "cell_type": "markdown",
   "metadata": {},
   "source": [
    "### Add your Gemini API key"
   ]
  },
  {
   "cell_type": "code",
   "execution_count": 27,
   "metadata": {},
   "outputs": [],
   "source": [
    "# Or use `os.getenv('GOOGLE_API_KEY')` to fetch an environment variable.\n",
    "# GOOGLE_API_KEY=userdata.get('GOOGLE_API_KEY')\n",
    "\n",
    "genai.configure(api_key='YOUR_API_KEY')"
   ]
  },
  {
   "cell_type": "code",
   "execution_count": 28,
   "metadata": {},
   "outputs": [
    {
     "name": "stdout",
     "output_type": "stream",
     "text": [
      "models/gemini-pro\n",
      "models/gemini-pro-vision\n"
     ]
    }
   ],
   "source": [
    "##Available models\n",
    "for m in genai.list_models():\n",
    "  if 'generateContent' in m.supported_generation_methods:\n",
    "    print(m.name)"
   ]
  },
  {
   "attachments": {},
   "cell_type": "markdown",
   "metadata": {},
   "source": [
    "### Load model"
   ]
  },
  {
   "cell_type": "code",
   "execution_count": 29,
   "metadata": {},
   "outputs": [],
   "source": [
    "model = genai.GenerativeModel('gemini-pro')"
   ]
  },
  {
   "attachments": {},
   "cell_type": "markdown",
   "metadata": {},
   "source": [
    "## Query the model"
   ]
  },
  {
   "cell_type": "code",
   "execution_count": 30,
   "metadata": {},
   "outputs": [],
   "source": [
    "response = model.generate_content(\"Write a code to find the prime number using recurssion?\")"
   ]
  },
  {
   "cell_type": "code",
   "execution_count": 31,
   "metadata": {},
   "outputs": [
    {
     "data": {
      "text/markdown": [
       "> ```python\n",
       "> def prime_check(n, i):\n",
       ">     if i == 1:\n",
       ">         return True\n",
       ">     elif n % i == 0:\n",
       ">         return False\n",
       ">     else:\n",
       ">         return prime_check(n, i-1)\n",
       "> \n",
       "> def prime_recursion(n, i=2):\n",
       ">     if n <= 1:\n",
       ">         return False\n",
       ">     elif n <= 3:\n",
       ">         return True\n",
       ">     elif n % 2 == 0 or n % 3 == 0:\n",
       ">         return False\n",
       ">     else:\n",
       ">         return prime_check(n, i)\n",
       "> ```\n",
       "> \n",
       "> This script utilizes recursion in Python to determine if a given number `n` is prime. The function `prime_check` recursively checks for factors of `n` starting from 2 up to the square root of `n`. If it finds any factors, it returns `False`, indicating that `n` is not prime. If it reaches the square root of `n` without finding any factors, it returns `True`, indicating that `n` is prime.\n",
       "> \n",
       "> The `prime_recursion` function serves as the wrapper function that calls `prime_check` and handles checking for prime numbers. It first checks for special cases where `n` is less than or equal to 1 or between 2 and 3. If `n` falls within these ranges, it returns `False` or `True` accordingly. Otherwise, it calls `prime_check` with `n` and 2 as arguments to initiate the recursive check for prime numbers.\n",
       "> \n",
       "> By combining the efficiency of the recursive algorithm with the handling of special cases, this Python program efficiently determines if a given number is prime or not."
      ],
      "text/plain": [
       "<IPython.core.display.Markdown object>"
      ]
     },
     "execution_count": 31,
     "metadata": {},
     "output_type": "execute_result"
    }
   ],
   "source": [
    "to_markdown(response.text)"
   ]
  },
  {
   "attachments": {},
   "cell_type": "markdown",
   "metadata": {},
   "source": [
    "### Prompt feedback tell about the safety of the user query\n",
    "#### If the query is unsafe then it block the reply"
   ]
  },
  {
   "cell_type": "code",
   "execution_count": 32,
   "metadata": {},
   "outputs": [
    {
     "data": {
      "text/plain": [
       "safety_ratings {\n",
       "  category: HARM_CATEGORY_SEXUALLY_EXPLICIT\n",
       "  probability: NEGLIGIBLE\n",
       "}\n",
       "safety_ratings {\n",
       "  category: HARM_CATEGORY_HATE_SPEECH\n",
       "  probability: NEGLIGIBLE\n",
       "}\n",
       "safety_ratings {\n",
       "  category: HARM_CATEGORY_HARASSMENT\n",
       "  probability: NEGLIGIBLE\n",
       "}\n",
       "safety_ratings {\n",
       "  category: HARM_CATEGORY_DANGEROUS_CONTENT\n",
       "  probability: NEGLIGIBLE\n",
       "}"
      ]
     },
     "execution_count": 32,
     "metadata": {},
     "output_type": "execute_result"
    }
   ],
   "source": [
    "response.prompt_feedback"
   ]
  },
  {
   "attachments": {},
   "cell_type": "markdown",
   "metadata": {},
   "source": [
    "### Test some <span style=\"color:red\">unsafe </span> query"
   ]
  },
  {
   "cell_type": "code",
   "execution_count": 53,
   "metadata": {},
   "outputs": [
    {
     "name": "stdout",
     "output_type": "stream",
     "text": [
      "block_reason: SAFETY\n",
      "safety_ratings {\n",
      "  category: HARM_CATEGORY_SEXUALLY_EXPLICIT\n",
      "  probability: NEGLIGIBLE\n",
      "}\n",
      "safety_ratings {\n",
      "  category: HARM_CATEGORY_HATE_SPEECH\n",
      "  probability: NEGLIGIBLE\n",
      "}\n",
      "safety_ratings {\n",
      "  category: HARM_CATEGORY_HARASSMENT\n",
      "  probability: LOW\n",
      "}\n",
      "safety_ratings {\n",
      "  category: HARM_CATEGORY_DANGEROUS_CONTENT\n",
      "  probability: HIGH\n",
      "}\n",
      "\n"
     ]
    }
   ],
   "source": [
    "response = model.generate_content(\"How to make the bomb?\")\n",
    "\n",
    "try: \n",
    "    print(response.text)\n",
    "except: \n",
    "    print(response.prompt_feedback)"
   ]
  },
  {
   "attachments": {},
   "cell_type": "markdown",
   "metadata": {},
   "source": [
    "##### We can see the <span style=\"color:red\">HARM_CATEGORY_DANGEROUS_CONTENT </span>shows high safety issues\n"
   ]
  },
  {
   "attachments": {},
   "cell_type": "markdown",
   "metadata": {},
   "source": [
    "##### `Note:` If the query is unsafe the model revert with empty response "
   ]
  },
  {
   "attachments": {},
   "cell_type": "markdown",
   "metadata": {},
   "source": [
    "#### Gemini can generate multiple possible responses for a single prompt. These possible responses are called `candidates`, and you can review them to select the most suitable one as the response.\n",
    "\n",
    "View the response candidates with `GenerateContentResponse.candidates`:"
   ]
  },
  {
   "cell_type": "code",
   "execution_count": 54,
   "metadata": {},
   "outputs": [
    {
     "data": {
      "text/plain": [
       "[]"
      ]
     },
     "execution_count": 54,
     "metadata": {},
     "output_type": "execute_result"
    }
   ],
   "source": [
    "response.candidates"
   ]
  },
  {
   "attachments": {},
   "cell_type": "markdown",
   "metadata": {},
   "source": [
    "#### Generate the output during running the model instead of full processing using `stream=True`"
   ]
  },
  {
   "cell_type": "code",
   "execution_count": 50,
   "metadata": {},
   "outputs": [],
   "source": [
    "response = model.generate_content(\"How to make pancake?\", stream=True)"
   ]
  },
  {
   "cell_type": "code",
   "execution_count": 51,
   "metadata": {},
   "outputs": [
    {
     "name": "stdout",
     "output_type": "stream",
     "text": [
      "1. **Gather Your Ingredients:**\n",
      "\n",
      "    * 1 cup all-purpose\n",
      "________________________________________________________________________________\n",
      " flour\n",
      "    * 2 teaspoons baking powder\n",
      "    * 1 tablespoon sugar\n",
      "    * 1/2 teaspoon baking soda\n",
      "    * 1/\n",
      "________________________________________________________________________________\n",
      "2 teaspoon salt\n",
      "    * 1 egg\n",
      "    * 1 cup milk\n",
      "    * 2 tablespoons melted butter\n",
      "    * 1 teaspoon vanilla extract\n",
      "\n",
      "2. **Prepare Your Ingredients:**\n",
      "\n",
      "    * Measure and sift together the dry ingredients (flour, baking powder, sugar, baking soda, and salt)\n",
      "________________________________________________________________________________\n",
      " into a medium bowl.\n",
      "    * In a separate bowl, whisk together the egg, milk, melted butter, and vanilla extract.\n",
      "\n",
      "3. **Combine the Ingredients:**\n",
      "\n",
      "    * Gradually add the wet ingredients to the dry ingredients, whisking constantly until just combined. Do not overmix.\n",
      "    * The batter should be slightly lumpy.\n",
      "\n",
      "4. **Preheat a Griddle or Skillet:**\n",
      "\n",
      "    * Preheat a lightly greased griddle or skillet over medium-low heat.\n",
      "\n",
      "5. **Pour the Batter:**\n",
      "\n",
      "    * Using a 1/4 cup measuring cup, pour the batter onto the preheated\n",
      "________________________________________________________________________________\n",
      " griddle or skillet.\n",
      "    * Cook for about 2-3 minutes per side, or until golden brown.\n",
      "\n",
      "6. **Serve:**\n",
      "\n",
      "    * Serve the pancakes immediately with your favorite toppings, such as butter, syrup, fruit, or whipped cream.\n",
      "    * Enjoy your delicious homemade pancakes!\n",
      "________________________________________________________________________________\n"
     ]
    }
   ],
   "source": [
    "for chunk in response:\n",
    "  print(chunk.text)\n",
    "  print(\"_\"*80)"
   ]
  },
  {
   "cell_type": "code",
   "execution_count": null,
   "metadata": {},
   "outputs": [],
   "source": []
  }
 ],
 "metadata": {
  "kernelspec": {
   "display_name": "rasaenv",
   "language": "python",
   "name": "python3"
  },
  "language_info": {
   "codemirror_mode": {
    "name": "ipython",
    "version": 3
   },
   "file_extension": ".py",
   "mimetype": "text/x-python",
   "name": "python",
   "nbconvert_exporter": "python",
   "pygments_lexer": "ipython3",
   "version": "3.12.0"
  },
  "orig_nbformat": 4
 },
 "nbformat": 4,
 "nbformat_minor": 2
}
